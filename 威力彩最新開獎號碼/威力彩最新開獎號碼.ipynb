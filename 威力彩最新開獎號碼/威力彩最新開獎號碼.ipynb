{
 "cells": [
  {
   "cell_type": "code",
   "execution_count": 33,
   "metadata": {},
   "outputs": [
    {
     "name": "stdout",
     "output_type": "stream",
     "text": [
      "開出順序->16 13 33 15 14 31 \n",
      "大小順序->13 14 15 16 31 33 \n",
      "第二區->04 \n"
     ]
    }
   ],
   "source": [
    "import requests\n",
    "from bs4 import BeautifulSoup\n",
    "\n",
    "url = 'http://www.taiwanlottery.com.tw'\n",
    "html = requests.get(url)\n",
    "\n",
    "soup = BeautifulSoup(html.text,'html.parser')\n",
    "\n",
    "# 取得開獎號碼的區塊(rightdown) 註* select取得的是陣列格式\n",
    "lotteryArea = soup.select(\"#rightdown\")\n",
    "# print(data1)\n",
    "\n",
    "# 進到威力彩區塊(contents_box02)\n",
    "lottery = lotteryArea[0].find('div',{'class' : 'contents_box02'})\n",
    "# print(data2)\n",
    "\n",
    "# 取得所有開獎號碼(ball_green)\n",
    "winNum = lottery.find_all('div',{'class':'ball_green'})             \n",
    "# print(data3)\n",
    "\n",
    "# 開獎號碼有六個，不過有分開出順序/大小順序，前者為前六個ball_green,後者為後六個\n",
    "print(\"開出順序->\",end = \"\")\n",
    "for i in range(0,6):\n",
    "    print(winNum[i].text,end=\"\")\n",
    "print(\"\\n大小順序->\",end = \"\")\n",
    "for i in range(6,len(data3)):\n",
    "    print(winNum[i].text,end=\"\")\n",
    "    \n",
    "# 有一個第二區的開獎號碼(ball_red)要另外抓\n",
    "red = lottery.find('div',{'class': 'ball_red'})\n",
    "print(\"\\n第二區->\"+red.text)\n",
    "\n"
   ]
  },
  {
   "cell_type": "code",
   "execution_count": null,
   "metadata": {},
   "outputs": [],
   "source": []
  }
 ],
 "metadata": {
  "kernelspec": {
   "display_name": "Python 3",
   "language": "python",
   "name": "python3"
  },
  "language_info": {
   "codemirror_mode": {
    "name": "ipython",
    "version": 3
   },
   "file_extension": ".py",
   "mimetype": "text/x-python",
   "name": "python",
   "nbconvert_exporter": "python",
   "pygments_lexer": "ipython3",
   "version": "3.5.2"
  }
 },
 "nbformat": 4,
 "nbformat_minor": 2
}
