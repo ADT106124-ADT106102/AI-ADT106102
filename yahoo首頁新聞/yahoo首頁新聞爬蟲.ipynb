{
 "cells": [
  {
   "cell_type": "code",
   "execution_count": 4,
   "metadata": {},
   "outputs": [],
   "source": [
    "# ! pip3 install beautifulsoup4"
   ]
  },
  {
   "cell_type": "code",
   "execution_count": 3,
   "metadata": {},
   "outputs": [
    {
     "name": "stdout",
     "output_type": "stream",
     "text": [
      "標題:地圖缺台灣挨轟 Dior滅火喊一中\n",
      "網址:https://tw.news.yahoo.com/%E8%AC%9B%E5%BA%A7%E7%A7%80%E4%B8%AD%E5%9C%8B%E5%9C%B0%E5%9C%96%E8%A2%AB%E6%8C%87%E6%B2%92%E6%9C%89%E5%8F%B0%E7%81%A3-dior%E6%80%A5%E8%81%B2%E6%98%8E-%E5%93%A1%E5%B7%A5%E5%80%8B%E4%BA%BA%E5%A4%B1%E7%95%B6%E8%A1%8C%E7%82%BA-024544191.html\n",
      "標題:何子雨墜海2年 幻象黑盒子找到了\n",
      "網址:https://tw.news.yahoo.com/%E8%BF%912%E5%B9%B4%E6%89%93%E6%92%88-%E4%BD%95%E5%AD%90%E9%9B%A8%E5%B9%BB%E8%B1%A1%E6%88%B0%E6%A9%9F%E9%BB%91%E7%9B%92%E5%AD%90%E6%89%BE%E5%88%B0%E4%BA%86-065558602.html\n",
      "標題:士林夜市又爆「2份骰子牛600元」\n",
      "網址:https://tw.news.yahoo.com/%E5%A3%AB%E6%9E%97%E5%A4%9C%E5%B8%82%E5%8F%88%E7%88%86%E5%9D%91%E6%AE%BA-2%E4%BB%BD%E9%AA%B0%E5%AD%90%E7%89%9B%E9%96%8B%E5%A4%A9%E5%83%B9600%E5%85%83%E7%B6%B2%E6%B0%A3%E7%82%B8-023700130.html\n",
      "標題:「泰山」家變悲劇 子弒母雙亡\n",
      "網址:https://tw.news.yahoo.com/%E6%B3%B0%E5%B1%B1%E7%94%B7%E6%98%9F%E5%AE%B6%E5%BA%AD%E7%B3%BE%E7%B4%9B%E5%BC%95%E4%BA%BA%E5%80%AB%E6%82%B2%E5%8A%87-%E5%AD%90%E5%BC%92%E6%AF%8D%E9%9B%99%E4%BA%A1-031040396.html\n",
      "標題:十字路口的台灣青少年國族認同\n",
      "網址:https://tw.news.yahoo.com/-yahoo%E8%AB%96%E5%A3%87%E7%8E%8B%E6%99%BA%E7%9B%9B%E6%AD%A3%E8%B5%B0%E5%9C%A8%E5%8D%81%E5%AD%97%E8%B7%AF%E5%8F%A3%E7%9A%84%E5%8F%B0%E7%81%A3%E9%9D%92%E5%B0%91%E5%B9%B4%E5%9C%8B%E6%97%8F%E8%AA%8D%E5%90%8C-230043978.html\n",
      "標題:傳暴龍將砸大錢 續留西亞卡姆\n",
      "網址:https://tw.news.yahoo.com/nba-%E8%A5%BF%E4%BA%9E%E5%8D%A1%E5%A7%86%E6%88%90%E6%96%B0%E9%BE%8D%E7%8E%8B-%E8%A1%9B%E5%86%95%E8%BB%8D%E5%B0%87%E6%8B%BF5%E5%B9%B41-7%E5%84%84%E7%BE%8E%E5%85%83%E7%95%99%E4%BA%BA-022446442.html\n",
      "標題:太空人偷暗號？「已好幾年了」\n",
      "網址:https://tw.news.yahoo.com/mlb-%E4%B8%8D%E5%B0%8B%E5%B8%B8%E7%9A%84%E5%8F%A3%E5%93%A8%E8%81%B2-%E5%A4%AA%E7%A9%BA%E4%BA%BA%E9%A9%9A%E5%82%B3%E5%81%B7%E6%9A%97%E8%99%9F-%E6%B4%8B%E5%9F%BA%E8%B6%85%E7%81%AB%E5%A4%A7-044547530.html\n",
      "標題:不怕被抵制 哈里斯：我錢太多\n",
      "網址:https://tw.sports.yahoo.com/news/nba-%E8%B3%BA%E5%98%B8%E4%B8%AD%E5%9C%8B%E9%8C%A2-%E4%BB%96-%E8%B3%BA%E5%A4%AA%E5%A4%9A%E4%B8%8D%E6%80%95-041211626.html\n",
      "標題:經典狂牛部隊 興農二連霸之路\n",
      "網址:https://yahoo-cpbl-30th.tumblr.com/post/188076612907/30%E9%80%B1%E5%B9%B4%E7%B6%93%E5%85%B8%E7%8B%82%E7%89%9B%E9%83%A8%E9%9A%8A-%E8%88%88%E8%BE%B2%E7%89%9B%E4%BA%8C%E9%80%A3%E9%9C%B8\n",
      "標題:機器裁判惹議 這球讓他被拉弓\n",
      "網址:https://tw.sports.yahoo.com/news/%E6%A9%9F%E5%99%A8%E4%BA%BA%E7%9C%BC%E4%B8%AD%E7%9A%84%E5%A5%BD%E5%A3%9E%E7%90%83-%E7%90%83%E5%93%A1%E4%B8%8D%E6%BB%BF%E5%88%A4%E5%A5%BD%E7%90%83%E8%A2%AB%E9%A9%85%E9%80%90%E6%83%B9%E8%AD%B0-044512650.html\n",
      "標題:趙麗穎過生日 尪爆「有大事」\n",
      "網址:https://tw.news.yahoo.com/%E8%B6%99%E9%BA%97%E7%A9%8E%E7%95%B6%E5%AA%BD%E9%A6%96%E9%81%8E%E7%94%9F%E6%97%A5-%E9%A6%AE%E7%B4%B9%E5%B3%B0%E7%88%86%E6%9C%89%E5%A4%A7%E4%BA%8B-045004728.html\n",
      "標題:邵雨薇霸氣強吻 李淳嚇到腿軟\n",
      "網址:https://tw.news.yahoo.com/%E9%81%AD%E9%82%B5%E9%9B%A8%E8%96%87%E9%9C%B8%E6%B0%A3%E5%BC%B7%E5%90%BB-%E6%9D%8E%E6%B7%B3%E8%87%AA%E6%9B%9D%E5%9A%87%E5%88%B0%E9%9B%99%E8%85%BF%E7%99%BC%E8%BB%9F-045514434.html\n",
      "標題:孕肚不見了？蔡詩芸狂曬辣照\n",
      "網址:https://tw.news.yahoo.com/%E8%94%A1%E8%A9%A9%E8%8A%B8%E5%AD%95%E8%82%9A%E4%B8%8D%E8%A6%8B%E4%BA%86-%E5%8B%BE%E7%B4%B0%E8%85%BF%E7%8E%A9%E4%B8%8B%E8%A1%A3%E5%A4%B1%E8%B9%A4-035505945.html\n",
      "標題:拍女版漫威電影？緋紅女巫力挺\n",
      "網址:https://movies.yahoo.com.tw/article/伊莉莎白歐森全女版漫威電影有其必要-160522167.html\n",
      "標題:離婚袁惟仁 陸元琪「每天吞藥」\n",
      "網址:https://tw.news.yahoo.com/%E9%9B%A2%E5%A9%9A%E8%A2%81%E6%83%9F%E4%BB%81%E6%89%9B%E8%B5%B7%E7%88%B6%E8%81%B7%E9%99%B8%E5%85%83%E7%90%AA%E6%AF%8F%E5%A4%A9%E5%90%9E%E8%97%A5-051329800.html\n",
      "標題:人妻「中大獎」害女兒私處爆叢\n",
      "網址:https://tw.news.yahoo.com/%E4%BA%BA%E5%A6%BB%E6%84%9B%E6%B4%97%E4%B8%89%E6%BA%AB%E6%9A%96%E5%BE%97%E8%8F%9C%E8%8A%B1-%E7%AB%9F%E5%AE%B3%E5%A5%B3%E5%85%92%E4%B8%8B%E9%AB%94%E7%88%86%E6%BB%BF%E5%8F%A2-033200312.html#1017im\n",
      "標題:原住民娶妻聘禮 抬頭驚：巨大\n",
      "網址:https://travel.yahoo.com.tw/%E9%83%A8%E8%90%BD%E9%81%94%E4%BA%BA%E5%B8%B6%E4%BD%A0%E7%8E%A9%E7%A5%9E%E5%B1%B1%E9%83%A8%E8%90%BD-%E6%B7%B1%E5%BA%A6%E9%AB%94%E9%A9%97%E9%AD%AF%E5%87%B1%E6%96%87%E5%8C%96-003859903.html#1017im\n",
      "標題:3粒夜市最強？60年別處竟吃嘸\n",
      "網址:https://travel.yahoo.com.tw/%E6%B2%92%E6%9C%89%E5%9C%A8%E5%9C%B0%E4%BA%BA%E5%A0%B1%E8%B7%AF%E4%B8%8D%E7%9F%A5%E9%81%93-%E9%9A%B1%E8%97%8F%E7%89%8860%E5%B9%B4%E8%80%81%E5%BA%97%E8%BA%B2%E5%A4%9C%E5%B8%82-%E7%87%9F%E6%A5%AD%E6%99%82%E9%96%93%E4%BA%BA%E6%BD%AE%E6%93%A0%E5%88%B0%E7%88%86-084233117.html#1017im\n",
      "標題:為省民宿錢 野外密集1幕嗨了\n",
      "網址:https://tw.sports.yahoo.com/news/十大非去不可的特色露營景點-愛露營的你一定不能錯過-100032474.html#1017im\n",
      "標題:男做人工GG 急開機下場醫笑了\n",
      "網址:https://tw.news.yahoo.com/50%E6%AD%B2%E7%94%B7%E4%B8%8B%E9%9D%A2%E8%BB%9F%E8%B6%B4%E8%B6%B4-%E5%81%9A%E4%BA%BA%E5%B7%A5gg-%E6%80%A5%E9%96%8B%E6%A9%9F%E4%B8%8B%E5%A0%B4%E8%B6%85%E6%85%98-134200103.html#1017im\n",
      "標題:天王嫂曬「奶奶照」意外曝光她\n",
      "網址:https://style.yahoo.com.tw/%E5%91%A8%E6%9D%B0%E5%80%AB-%E6%98%86%E5%87%8C%E5%A5%B3%E5%85%92%E9%95%B7%E7%9B%B8%E6%9B%9D%E5%85%89-%E6%98%86%E5%87%8C%E6%9B%AC%E5%A5%B6%E5%A5%B6%E7%85%A7%E7%89%87-%E5%B0%8F%E5%91%A8%E5%91%A8%E9%95%B7%E7%9B%B8%E6%84%8F%E5%A4%96%E6%88%90%E7%84%A6%E9%BB%9E-000000542.html#1017ac\n",
      "標題:床上1塊全是菌 背痘爛皮膚兇手\n",
      "網址:https://style.yahoo.com.tw/%E8%86%BF%E7%97%98%E5%89%8B%E6%98%9F-5-%E6%AC%BEptt-dcard%E7%B6%B2%E5%8F%8B%E7%86%B1%E8%AD%B0%E5%B0%8D%E6%8A%97%E8%83%8C%E7%97%98%E7%A5%9E%E7%89%A9%E6%8E%A8%E8%96%A6%E6%94%B9%E5%96%84%E7%B2%89%E5%88%BA%E7%97%98%E7%97%98%E9%9B%9E%E7%9A%AE%E8%B6%85%E6%9C%89%E6%84%9F%E8%AE%93%E8%82%8C%E8%86%9A%E5%A5%BD%E4%BC%BC%E9%96%8B%E6%9F%94%E7%84%A6%E6%BF%BE%E9%8F%A1-021408022.html#1017ac\n",
      "標題:愛妻親筆信被公開 尪罕見怒了\n",
      "網址:https://style.yahoo.com.tw/%E7%82%BA%E6%A2%85%E6%A0%B9%E6%8F%90%E5%91%8A%E5%82%B3%E5%AA%92-%E5%93%88%E9%87%8C%E7%8E%8B%E5%AD%90-%E6%88%91%E4%B8%8D%E6%9C%83%E8%AE%93%E6%AF%8D%E8%A6%AA%E7%9A%84%E6%82%B2%E5%8A%87%E7%99%BC%E7%94%9F%E5%9C%A8%E5%A6%BB%E5%AD%90%E8%BA%AB%E4%B8%8A-104206678.html#1016ac#1017ac\n",
      "標題:脫貧！領薪先這樣分 年多20萬\n",
      "網址:https://style.yahoo.com.tw/%E6%9C%88%E5%85%89%E6%97%8F%E5%BF%85%E5%AD%B8%E8%AE%8A%E8%BA%AB%E6%9C%89%E9%8C%A2%E4%BA%BA%E7%9A%84-5-%E6%8B%9B%E7%84%A1%E7%97%9B%E5%AD%98%E9%8C%A2%E6%B3%95-30-%E6%AD%B2%E4%BB%A5%E5%BE%8C%E8%BC%95%E9%AC%86%E5%AD%98%E5%88%B0%E7%AC%AC%E4%B8%80%E6%A1%B6%E9%87%91-131651190.html#1017ac\n",
      "標題:為它捨高檔貨…博士一罐18用\n",
      "網址:https://style.yahoo.com.tw/%E5%A5%B3%E7%A5%9E%E5%8D%A1%E5%8D%A1-%E6%BD%94%E8%A5%BF%E5%8D%A1%E8%89%BE%E8%8A%AD-%E7%8F%8A%E5%8D%93%E5%B8%83%E6%8B%89%E5%85%8B%E5%85%A8%E9%83%BD%E6%90%B6%E7%94%A8-%E6%B4%97%E6%BE%A1%E5%8D%B8%E5%A6%9D-%E7%BD%90%E6%90%9E%E5%AE%9A-063223895.html#1017ac\n",
      "標題:不敵憂鬱病魔…Jolin泣回34字\n",
      "網址:https://tw.news.yahoo.com/%E9%9B%AA%E8%8E%89%E7%94%9F%E5%89%8D%E6%B7%9A%E8%A8%B4%E4%B8%8D%E8%A2%AB%E7%90%86%E8%A7%A3-sj%E7%9B%B4%E6%92%AD%E5%8F%96%E6%B6%88%E9%80%A3%E8%94%A1%E4%BE%9D%E6%9E%97%E4%B9%9F%E7%99%BC%E6%96%87-003000605.html#1017hh\n",
      "標題:DNA揭身世 千金淪落貧民窟\n",
      "網址:https://tw.tv.yahoo.com/unexpected/%E4%BE%86%E5%88%B0%E4%BD%A0%E7%9A%84%E4%B8%96%E7%95%8C-ep18-%E5%AE%8C%E6%95%B4%E7%89%88-101000879.html#1017hh\n",
      "標題:新人犯錯扣全薪 慣老闆遭起底\n",
      "網址:https://tw.tv.yahoo.com/thekingsavatar/%E5%85%A8%E8%81%B7%E9%AB%98%E6%89%8B-ep02-%E5%AE%8C%E6%95%B4%E7%89%88-023000193.html#1017hh\n",
      "標題:義美看了哭 超商1顆上架掃空\n",
      "網址:https://tw.tv.yahoo.com/ycreators/%E6%9C%80%E7%B4%85%E7%9A%84%E7%B6%B2%E7%BE%8E%E9%96%8B%E7%AE%B1%E7%BE%8E%E9%A3%9F%E4%BE%86%E5%95%A6-%E5%A5%BD%E5%90%83%E7%A8%8B%E5%BA%A6%E7%88%86%E8%A1%A8%E7%9A%84%E7%8F%8D%E5%A5%B6%E9%8A%85%E9%91%BC%E7%87%92%E5%86%B0%E6%B7%87%E6%B7%8B-171622557.html#1017hh\n",
      "標題:升商務艙悔？椅子長醬森七七\n",
      "網址:https://tw.tv.yahoo.com/ycreators/%E5%8D%87%E7%B4%9A%E5%95%86%E5%8B%99%E8%89%99%E7%AB%9F%E7%84%B6%E4%B9%9F%E6%9C%83%E8%B8%A9%E5%88%B0%E9%9B%B7-%E9%80%99%E6%A8%A3%E6%8C%91%E9%81%B8%E9%81%BF%E9%96%8B%E5%9C%B0%E9%9B%B7%E6%A9%9F%E5%9E%8B-151207079.html#1017hh\n"
     ]
    }
   ],
   "source": [
    "import requests\n",
    "from bs4 import BeautifulSoup\n",
    "\n",
    "url = 'https://tw.yahoo.com/'\n",
    "r= requests.get(url)\n",
    "\n",
    "if r.status_code == requests.codes.ok:\n",
    "        soup = BeautifulSoup(r.text,'html.parser')\n",
    "        \n",
    "        stories = soup.find_all('a',class_='story-title')\n",
    "        for s in stories:\n",
    "            print(\"標題:\"+s.text)\n",
    "            print(\"網址:\"+s.get('href'))\n",
    "    "
   ]
  },
  {
   "cell_type": "code",
   "execution_count": null,
   "metadata": {},
   "outputs": [],
   "source": []
  }
 ],
 "metadata": {
  "kernelspec": {
   "display_name": "Python 3",
   "language": "python",
   "name": "python3"
  },
  "language_info": {
   "codemirror_mode": {
    "name": "ipython",
    "version": 3
   },
   "file_extension": ".py",
   "mimetype": "text/x-python",
   "name": "python",
   "nbconvert_exporter": "python",
   "pygments_lexer": "ipython3",
   "version": "3.5.2"
  }
 },
 "nbformat": 4,
 "nbformat_minor": 4
}
