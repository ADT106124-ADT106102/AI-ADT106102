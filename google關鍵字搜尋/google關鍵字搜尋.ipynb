{
 "cells": [
  {
   "cell_type": "code",
   "execution_count": 2,
   "metadata": {},
   "outputs": [],
   "source": [
    "import requests\n",
    "from bs4 import BeautifulSoup"
   ]
  },
  {
   "cell_type": "code",
   "execution_count": 3,
   "metadata": {},
   "outputs": [
    {
     "name": "stdout",
     "output_type": "stream",
     "text": [
      "輸入關鍵字:test\n",
      "haha\n",
      "標題:Speedtest by Ookla - The Global Broadband Speed Testhttps://www.speedtest.net\n",
      "網址:/url?q=https://www.speedtest.net/&sa=U&ved=2ahUKEwiygsLi8qLlAhXVMN4KHXZyDqkQFjAAegQIBRAB&usg=AOvVaw0HVGrFFCnC_AqBSSnd5CFT\n",
      "標題:Test Your Internet Speed - Spectrumhttps://www.spectrum.com › internet › speed-test\n",
      "網址:/url?q=https://www.spectrum.com/internet/speed-test.html&sa=U&ved=2ahUKEwiygsLi8qLlAhXVMN4KHXZyDqkQFjABegQICRAB&usg=AOvVaw053SYoysnc3CjR3NaPD2Lf\n",
      "標題:Speakeasy Internet Speed Test - Check Your Broadband Speed ...https://www.speakeasy.net › speedtest\n",
      "網址:/url?q=https://www.speakeasy.net/speedtest/&sa=U&ved=2ahUKEwiygsLi8qLlAhXVMN4KHXZyDqkQFjACegQIChAB&usg=AOvVaw3pM9MzEiG2JsJS7MfWBhAV\n",
      "標題:Fast.com: Internet Speed Testhttps://fast.com\n",
      "網址:/url?q=https://fast.com/&sa=U&ved=2ahUKEwiygsLi8qLlAhXVMN4KHXZyDqkQFjADegQIBxAB&usg=AOvVaw21yBQWudn6wx6Gmi88vYTK\n",
      "標題:AT&T High Speed Internet Speed Testspeedtest.att.com › speedtest\n",
      "網址:/url?q=http://speedtest.att.com/speedtest/&sa=U&ved=2ahUKEwiygsLi8qLlAhXVMN4KHXZyDqkQFjAEegQICBAB&usg=AOvVaw1OB020H6DUMomk3d4jMFcZ\n",
      "標題:Internet Speed Test | Check Your Internet Speed | CenturyLinkhttps://www.centurylink.com › home › help › internet › internet-speed-test\n",
      "網址:/url?q=https://www.centurylink.com/home/help/internet/internet-speed-test.html&sa=U&ved=2ahUKEwiygsLi8qLlAhXVMN4KHXZyDqkQFjAFegQIBBAB&usg=AOvVaw3fICe4IqCqu70AApDF5a5E\n",
      "標題:Broadband and Wi-Fi Internet Speed Test | Verizon Fioshttps://www.verizon.com › speedtest\n",
      "網址:/url?q=https://www.verizon.com/speedtest/&sa=U&ved=2ahUKEwiygsLi8qLlAhXVMN4KHXZyDqkQFjAGegQIBhAB&usg=AOvVaw0zhyUsM1_3wsUEudSh6G_w\n",
      "標題:Spectrum Speed Test | Spectrum Supporthttps://www.spectrum.net › support › internet › spectrum-speed-test\n",
      "網址:/url?q=https://www.spectrum.net/support/internet/spectrum-speed-test&sa=U&ved=2ahUKEwiygsLi8qLlAhXVMN4KHXZyDqkQFjAHegQIAxAB&usg=AOvVaw3OFjcNVCmqhYfy2FcpfGeo\n",
      "標題:Internet Speed Test - Test internet speed - WhatIsMyIP.com®https://www.whatismyip.com › internet-speed-test\n",
      "網址:/url?q=https://www.whatismyip.com/internet-speed-test/&sa=U&ved=2ahUKEwiygsLi8qLlAhXVMN4KHXZyDqkQFjAIegQIARAB&usg=AOvVaw1YGMhcGWxxnebQ8AqghY0l\n",
      "標題:Speed Test - HighSpeedInternet.comhttps://www.highspeedinternet.com › tools › speed-test\n",
      "網址:/url?q=https://www.highspeedinternet.com/tools/speed-test&sa=U&ved=2ahUKEwiygsLi8qLlAhXVMN4KHXZyDqkQFjAJegQIAhAB&usg=AOvVaw1fJQtmWdLx9ihdqbzahLPn\n"
     ]
    }
   ],
   "source": [
    "google_url = \"https://www.google.com.tw/search\"\n",
    "\n",
    "\n",
    "keyword_input = input(\"輸入關鍵字:\")\n",
    "\n",
    "keyword = {'q':keyword_input}\n",
    "\n",
    "r = requests.get(google_url,params = keyword)\n",
    "\n",
    "if r.status_code == requests.codes.ok:\n",
    "    soup = BeautifulSoup(r.text,'html.parser')\n",
    "#     print(soup.prettify())\n",
    "# print(soup)   \n",
    "    items = soup.select('div.kCrYT > a[href^=\"/url\"]')\n",
    "    for i in items:\n",
    "        print(\"標題:\"+i.text)\n",
    "        print(\"網址:\"+i.get('href'))"
   ]
  },
  {
   "cell_type": "code",
   "execution_count": null,
   "metadata": {},
   "outputs": [],
   "source": []
  }
 ],
 "metadata": {
  "kernelspec": {
   "display_name": "Python 3",
   "language": "python",
   "name": "python3"
  },
  "language_info": {
   "codemirror_mode": {
    "name": "ipython",
    "version": 3
   },
   "file_extension": ".py",
   "mimetype": "text/x-python",
   "name": "python",
   "nbconvert_exporter": "python",
   "pygments_lexer": "ipython3",
   "version": "3.5.2"
  }
 },
 "nbformat": 4,
 "nbformat_minor": 2
}
