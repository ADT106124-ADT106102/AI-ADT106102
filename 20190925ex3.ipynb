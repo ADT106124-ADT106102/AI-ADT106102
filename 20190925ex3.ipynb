{
 "cells": [
  {
   "cell_type": "code",
   "execution_count": 5,
   "metadata": {},
   "outputs": [
    {
     "name": "stdin",
     "output_type": "stream",
     "text": [
      "enter your height(m): 1.5\n",
      "enter your weight(kg) 90\n"
     ]
    },
    {
     "name": "stdout",
     "output_type": "stream",
     "text": [
      "your BMI : 40\n",
      "你太胖囉\n"
     ]
    }
   ],
   "source": [
    "h = float(input(\"enter your height(m):\"))\n",
    "w = float(input(\"enter your weight(kg)\"))\n",
    "BMI = w/pow(h,2)\n",
    "\n",
    "print(\"your BMI : %d\"%BMI)\n",
    "\n",
    "if(BMI < 18.5):\n",
    "    print(\"你太瘦囉\")\n",
    "elif(BMI>18.5 and BMI<24):\n",
    "    print(\"體重剛好\")\n",
    "else:\n",
    "    print(\"你太胖囉\")\n"
   ]
  },
  {
   "cell_type": "code",
   "execution_count": null,
   "metadata": {},
   "outputs": [],
   "source": []
  }
 ],
 "metadata": {
  "kernelspec": {
   "display_name": "Python 3",
   "language": "python",
   "name": "python3"
  },
  "language_info": {
   "codemirror_mode": {
    "name": "ipython",
    "version": 3
   },
   "file_extension": ".py",
   "mimetype": "text/x-python",
   "name": "python",
   "nbconvert_exporter": "python",
   "pygments_lexer": "ipython3",
   "version": "3.5.2"
  }
 },
 "nbformat": 4,
 "nbformat_minor": 4
}
